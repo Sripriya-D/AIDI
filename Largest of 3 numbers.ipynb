{
 "cells": [
  {
   "cell_type": "markdown",
   "id": "466c071d",
   "metadata": {},
   "source": [
    "# To find the largest of 3 number"
   ]
  },
  {
   "cell_type": "code",
   "execution_count": 3,
   "id": "ee001c88",
   "metadata": {},
   "outputs": [
    {
     "name": "stdout",
     "output_type": "stream",
     "text": [
      "Enter first number: 5\n"
     ]
    }
   ],
   "source": [
    "num1 = float(input(\"Enter first number: \"))"
   ]
  },
  {
   "cell_type": "code",
   "execution_count": 4,
   "id": "768d6419",
   "metadata": {},
   "outputs": [
    {
     "name": "stdout",
     "output_type": "stream",
     "text": [
      "Enter second number: 3\n"
     ]
    }
   ],
   "source": [
    "num2 = float(input(\"Enter second number: \"))"
   ]
  },
  {
   "cell_type": "code",
   "execution_count": 5,
   "id": "b0b81a68",
   "metadata": {},
   "outputs": [
    {
     "name": "stdout",
     "output_type": "stream",
     "text": [
      "Enter third number: 7\n"
     ]
    }
   ],
   "source": [
    "num3 = float(input(\"Enter third number: \"))"
   ]
  },
  {
   "cell_type": "code",
   "execution_count": 6,
   "id": "e36913a1",
   "metadata": {},
   "outputs": [],
   "source": [
    "if (num1 >= num2) and (num1 >= num3):\n",
    "   largest = num1\n",
    "elif (num2 >= num1) and (num2 >= num3):\n",
    "   largest = num2\n",
    "else:\n",
    "   largest = num3"
   ]
  },
  {
   "cell_type": "code",
   "execution_count": 7,
   "id": "73a6fe76",
   "metadata": {},
   "outputs": [
    {
     "name": "stdout",
     "output_type": "stream",
     "text": [
      "The largest number is 7.0\n"
     ]
    }
   ],
   "source": [
    "print(\"The largest number is\", largest)"
   ]
  },
  {
   "cell_type": "code",
   "execution_count": null,
   "id": "c5fc056f",
   "metadata": {},
   "outputs": [],
   "source": []
  }
 ],
 "metadata": {
  "kernelspec": {
   "display_name": "Python 3 (ipykernel)",
   "language": "python",
   "name": "python3"
  },
  "language_info": {
   "codemirror_mode": {
    "name": "ipython",
    "version": 3
   },
   "file_extension": ".py",
   "mimetype": "text/x-python",
   "name": "python",
   "nbconvert_exporter": "python",
   "pygments_lexer": "ipython3",
   "version": "3.9.12"
  }
 },
 "nbformat": 4,
 "nbformat_minor": 5
}
